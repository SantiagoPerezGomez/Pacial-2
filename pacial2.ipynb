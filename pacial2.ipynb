{
  "cells": [
    {
      "cell_type": "markdown",
      "metadata": {
        "id": "bc8E2r-1JSmc"
      },
      "source": [
        "**Santiago Perez Gomez**\n",
        "\n",
        "***PARCIAL 2***\n",
        "\n",
        " **VERSION 0.0.1**"
      ]
    },
    {
      "cell_type": "code",
      "execution_count": null,
      "metadata": {
        "id": "FLOdS2_5Hnj9"
      },
      "outputs": [],
      "source": [
        "# 1. Construir una función que reciba como parámetro un entero y un dígito y retorne 1 si dicho entero es multiplo de dicho dígito y 0 si no es así.\n",
        "\n",
        "\n",
        "# RECIBIENDO PARAMETRO Y RETORNANDO VALOR\n",
        "def primerDig(num, digito):\n",
        "    if num % digito == 0:\n",
        "        return 1\n",
        "    else:\n",
        "        return 0\n",
        "\n",
        "\n",
        "# RECIBIENDO PARÁMETRO Y SIN RETORNAR UN VALOR\n",
        "\n",
        "\n",
        "def primerDig4(num, digito):\n",
        "    if num % digito == 0:\n",
        "        return\n",
        "    else:\n",
        "        return\n",
        "\n",
        "\n",
        "# SIN RECIBIR un parámetro y SIN RETORNAR UN VALOR\n",
        "\n",
        "\n",
        "def primerDig2():\n",
        "    if 30 % 10 == 0:\n",
        "        return\n",
        "    else:\n",
        "        return\n",
        "\n",
        "\n",
        "# SIN RECIBIR PARÁMETRO Y RETORNANDO VALOR\n",
        "\n",
        "\n",
        "def primerDig3():\n",
        "    if 30 % 10 == 0:\n",
        "        return 1\n",
        "    else:\n",
        "        return 0\n",
        "# 11. Construir una función que reciba como parámetro un entero y retorne su último dígito.\n",
        "\n",
        "\n",
        "# RECIBIENDO PARAMETRO Y RETORNANDO VALOR\n",
        "def ultimoDig(num):\n",
        "    return num % 10\n",
        "\n",
        "\n",
        "# RECIBIENDO PARÁMETRO Y SIN RETORNAR UN VALOR\n",
        "\n",
        "\n",
        "def ultimoDig2(num):\n",
        "    return\n",
        "\n",
        "\n",
        "# SIN RECIBIR PARÁMETRO Y RETORNANDO VALOR\n",
        "def ultimoDig3():\n",
        "    return 33 % 10\n",
        "\n",
        "\n",
        "# SIN RECIBIR un parámetro y SIN RETORNAR UN VALOR\n",
        "\n",
        "\n",
        "def ultimoDig4():\n",
        "    return\n",
        "\n",
        "\n",
        "# Testing\n",
        "\n",
        "print(primerDig(30, 10))\n",
        "print(ultimoDig2(34))\n",
        "print(ultimoDig3())\n",
        "print(primerDig2())\n",
        "print(ultimoDig(124))"
      ]
    }
  ],
  "metadata": {
    "colab": {
      "collapsed_sections": [],
      "provenance": []
    },
    "kernelspec": {
      "display_name": "Python 3",
      "name": "python3"
    },
    "language_info": {
      "name": "python"
    }
  },
  "nbformat": 4,
  "nbformat_minor": 0
}